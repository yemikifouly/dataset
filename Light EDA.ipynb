{
 "cells": [
  {
   "cell_type": "markdown",
   "id": "a6961452-f695-4975-938d-d12ece439cbb",
   "metadata": {},
   "source": [
    "# **Data Exploration**"
   ]
  },
  {
   "cell_type": "code",
   "execution_count": 1,
   "id": "ceb788b2-03ff-4b6d-a74a-4808dd897799",
   "metadata": {},
   "outputs": [],
   "source": [
    "import pandas as pd\n",
    "\n",
    "import matplotlib.pyplot as plt\n",
    "import seaborn as sns\n",
    "import numpy as np"
   ]
  },
  {
   "cell_type": "code",
   "execution_count": 2,
   "id": "882f9335-1629-490c-8cfd-876925b5dcb6",
   "metadata": {},
   "outputs": [],
   "source": [
    "data = pd.read_csv('clean_employees_dataset.csv')"
   ]
  },
  {
   "cell_type": "code",
   "execution_count": 3,
   "id": "5930c559-0938-4cd5-ac90-f0c16eb8ec75",
   "metadata": {},
   "outputs": [
    {
     "data": {
      "text/html": [
       "<div>\n",
       "<style scoped>\n",
       "    .dataframe tbody tr th:only-of-type {\n",
       "        vertical-align: middle;\n",
       "    }\n",
       "\n",
       "    .dataframe tbody tr th {\n",
       "        vertical-align: top;\n",
       "    }\n",
       "\n",
       "    .dataframe thead th {\n",
       "        text-align: right;\n",
       "    }\n",
       "</style>\n",
       "<table border=\"1\" class=\"dataframe\">\n",
       "  <thead>\n",
       "    <tr style=\"text-align: right;\">\n",
       "      <th></th>\n",
       "      <th>Id</th>\n",
       "      <th>SSN</th>\n",
       "      <th>Age</th>\n",
       "      <th>Salary</th>\n",
       "      <th>COVID Test Result</th>\n",
       "      <th>Pre-Existing Conditions</th>\n",
       "      <th>Recovery Time</th>\n",
       "    </tr>\n",
       "  </thead>\n",
       "  <tbody>\n",
       "    <tr>\n",
       "      <th>0</th>\n",
       "      <td>409</td>\n",
       "      <td>105-22-7328</td>\n",
       "      <td>50</td>\n",
       "      <td>82000</td>\n",
       "      <td>1</td>\n",
       "      <td>high blood pressure</td>\n",
       "      <td>4</td>\n",
       "    </tr>\n",
       "    <tr>\n",
       "      <th>1</th>\n",
       "      <td>908</td>\n",
       "      <td>737-28-5583</td>\n",
       "      <td>55</td>\n",
       "      <td>73000</td>\n",
       "      <td>0</td>\n",
       "      <td>asthma</td>\n",
       "      <td>0</td>\n",
       "    </tr>\n",
       "    <tr>\n",
       "      <th>2</th>\n",
       "      <td>533</td>\n",
       "      <td>186-56-6345</td>\n",
       "      <td>46</td>\n",
       "      <td>94000</td>\n",
       "      <td>1</td>\n",
       "      <td>asthma</td>\n",
       "      <td>6</td>\n",
       "    </tr>\n",
       "    <tr>\n",
       "      <th>3</th>\n",
       "      <td>354</td>\n",
       "      <td>563-88-3187</td>\n",
       "      <td>42</td>\n",
       "      <td>54000</td>\n",
       "      <td>1</td>\n",
       "      <td>none</td>\n",
       "      <td>2</td>\n",
       "    </tr>\n",
       "    <tr>\n",
       "      <th>4</th>\n",
       "      <td>937</td>\n",
       "      <td>717-85-3843</td>\n",
       "      <td>26</td>\n",
       "      <td>82000</td>\n",
       "      <td>0</td>\n",
       "      <td>none</td>\n",
       "      <td>0</td>\n",
       "    </tr>\n",
       "  </tbody>\n",
       "</table>\n",
       "</div>"
      ],
      "text/plain": [
       "    Id          SSN  Age  Salary  COVID Test Result Pre-Existing Conditions  \\\n",
       "0  409  105-22-7328   50   82000                  1     high blood pressure   \n",
       "1  908  737-28-5583   55   73000                  0                  asthma   \n",
       "2  533  186-56-6345   46   94000                  1                  asthma   \n",
       "3  354  563-88-3187   42   54000                  1                    none   \n",
       "4  937  717-85-3843   26   82000                  0                    none   \n",
       "\n",
       "   Recovery Time  \n",
       "0              4  \n",
       "1              0  \n",
       "2              6  \n",
       "3              2  \n",
       "4              0  "
      ]
     },
     "execution_count": 3,
     "metadata": {},
     "output_type": "execute_result"
    }
   ],
   "source": [
    "data.head()"
   ]
  },
  {
   "cell_type": "code",
   "execution_count": 4,
   "id": "ac5aabf5-88c8-4d70-8819-0e7ee1ac58d5",
   "metadata": {},
   "outputs": [
    {
     "data": {
      "text/html": [
       "<div>\n",
       "<style scoped>\n",
       "    .dataframe tbody tr th:only-of-type {\n",
       "        vertical-align: middle;\n",
       "    }\n",
       "\n",
       "    .dataframe tbody tr th {\n",
       "        vertical-align: top;\n",
       "    }\n",
       "\n",
       "    .dataframe thead th {\n",
       "        text-align: right;\n",
       "    }\n",
       "</style>\n",
       "<table border=\"1\" class=\"dataframe\">\n",
       "  <thead>\n",
       "    <tr style=\"text-align: right;\">\n",
       "      <th></th>\n",
       "      <th>Id</th>\n",
       "      <th>Age</th>\n",
       "      <th>Salary</th>\n",
       "      <th>COVID Test Result</th>\n",
       "      <th>Recovery Time</th>\n",
       "    </tr>\n",
       "  </thead>\n",
       "  <tbody>\n",
       "    <tr>\n",
       "      <th>count</th>\n",
       "      <td>951.000000</td>\n",
       "      <td>951.000000</td>\n",
       "      <td>951.000000</td>\n",
       "      <td>951.000000</td>\n",
       "      <td>951.000000</td>\n",
       "    </tr>\n",
       "    <tr>\n",
       "      <th>mean</th>\n",
       "      <td>498.740273</td>\n",
       "      <td>37.644585</td>\n",
       "      <td>72417.455310</td>\n",
       "      <td>0.598318</td>\n",
       "      <td>2.950578</td>\n",
       "    </tr>\n",
       "    <tr>\n",
       "      <th>std</th>\n",
       "      <td>289.113951</td>\n",
       "      <td>11.970308</td>\n",
       "      <td>18038.767324</td>\n",
       "      <td>0.490496</td>\n",
       "      <td>2.745844</td>\n",
       "    </tr>\n",
       "    <tr>\n",
       "      <th>min</th>\n",
       "      <td>1.000000</td>\n",
       "      <td>18.000000</td>\n",
       "      <td>42000.000000</td>\n",
       "      <td>0.000000</td>\n",
       "      <td>0.000000</td>\n",
       "    </tr>\n",
       "    <tr>\n",
       "      <th>25%</th>\n",
       "      <td>250.500000</td>\n",
       "      <td>27.000000</td>\n",
       "      <td>57000.000000</td>\n",
       "      <td>0.000000</td>\n",
       "      <td>0.000000</td>\n",
       "    </tr>\n",
       "    <tr>\n",
       "      <th>50%</th>\n",
       "      <td>499.000000</td>\n",
       "      <td>38.000000</td>\n",
       "      <td>72000.000000</td>\n",
       "      <td>1.000000</td>\n",
       "      <td>3.000000</td>\n",
       "    </tr>\n",
       "    <tr>\n",
       "      <th>75%</th>\n",
       "      <td>747.500000</td>\n",
       "      <td>48.000000</td>\n",
       "      <td>88000.000000</td>\n",
       "      <td>1.000000</td>\n",
       "      <td>6.000000</td>\n",
       "    </tr>\n",
       "    <tr>\n",
       "      <th>max</th>\n",
       "      <td>999.000000</td>\n",
       "      <td>58.000000</td>\n",
       "      <td>103000.000000</td>\n",
       "      <td>1.000000</td>\n",
       "      <td>7.000000</td>\n",
       "    </tr>\n",
       "  </tbody>\n",
       "</table>\n",
       "</div>"
      ],
      "text/plain": [
       "               Id         Age         Salary  COVID Test Result  Recovery Time\n",
       "count  951.000000  951.000000     951.000000         951.000000     951.000000\n",
       "mean   498.740273   37.644585   72417.455310           0.598318       2.950578\n",
       "std    289.113951   11.970308   18038.767324           0.490496       2.745844\n",
       "min      1.000000   18.000000   42000.000000           0.000000       0.000000\n",
       "25%    250.500000   27.000000   57000.000000           0.000000       0.000000\n",
       "50%    499.000000   38.000000   72000.000000           1.000000       3.000000\n",
       "75%    747.500000   48.000000   88000.000000           1.000000       6.000000\n",
       "max    999.000000   58.000000  103000.000000           1.000000       7.000000"
      ]
     },
     "execution_count": 4,
     "metadata": {},
     "output_type": "execute_result"
    }
   ],
   "source": [
    "data.describe()"
   ]
  },
  {
   "cell_type": "code",
   "execution_count": 5,
   "id": "c53ab9c9-0fe8-4e73-b967-66489ed8bceb",
   "metadata": {},
   "outputs": [
    {
     "data": {
      "text/plain": [
       "39.58523725834798"
      ]
     },
     "execution_count": 5,
     "metadata": {},
     "output_type": "execute_result"
    }
   ],
   "source": [
    "data[data['COVID Test Result']==1]['Age'].mean()"
   ]
  },
  {
   "cell_type": "code",
   "execution_count": 6,
   "id": "403405a5-06ee-4c46-aaa2-d0c571f11d25",
   "metadata": {},
   "outputs": [
    {
     "data": {
      "text/plain": [
       "34.753926701570684"
      ]
     },
     "execution_count": 6,
     "metadata": {},
     "output_type": "execute_result"
    }
   ],
   "source": [
    "data[data['COVID Test Result']==0]['Age'].mean()"
   ]
  },
  {
   "cell_type": "code",
   "execution_count": 7,
   "id": "7f082b52-56a3-4204-a5ff-366a4ddf424e",
   "metadata": {},
   "outputs": [
    {
     "data": {
      "text/plain": [
       "6    133\n",
       "7    127\n",
       "5     88\n",
       "4     81\n",
       "3     75\n",
       "2     65\n",
       "Name: Recovery Time, dtype: int64"
      ]
     },
     "execution_count": 7,
     "metadata": {},
     "output_type": "execute_result"
    }
   ],
   "source": [
    "data[data['COVID Test Result']==1]['Recovery Time'].value_counts()"
   ]
  },
  {
   "cell_type": "code",
   "execution_count": 8,
   "id": "68a51c02-ed0d-4f91-aa20-0160eb6e958b",
   "metadata": {},
   "outputs": [
    {
     "data": {
      "text/html": [
       "<div>\n",
       "<style scoped>\n",
       "    .dataframe tbody tr th:only-of-type {\n",
       "        vertical-align: middle;\n",
       "    }\n",
       "\n",
       "    .dataframe tbody tr th {\n",
       "        vertical-align: top;\n",
       "    }\n",
       "\n",
       "    .dataframe thead th {\n",
       "        text-align: right;\n",
       "    }\n",
       "</style>\n",
       "<table border=\"1\" class=\"dataframe\">\n",
       "  <thead>\n",
       "    <tr style=\"text-align: right;\">\n",
       "      <th></th>\n",
       "      <th>Age</th>\n",
       "    </tr>\n",
       "    <tr>\n",
       "      <th>Recovery Time</th>\n",
       "      <th></th>\n",
       "    </tr>\n",
       "  </thead>\n",
       "  <tbody>\n",
       "    <tr>\n",
       "      <th>2</th>\n",
       "      <td>31.200000</td>\n",
       "    </tr>\n",
       "    <tr>\n",
       "      <th>3</th>\n",
       "      <td>37.613333</td>\n",
       "    </tr>\n",
       "    <tr>\n",
       "      <th>4</th>\n",
       "      <td>36.666667</td>\n",
       "    </tr>\n",
       "    <tr>\n",
       "      <th>5</th>\n",
       "      <td>40.659091</td>\n",
       "    </tr>\n",
       "    <tr>\n",
       "      <th>6</th>\n",
       "      <td>42.526316</td>\n",
       "    </tr>\n",
       "    <tr>\n",
       "      <th>7</th>\n",
       "      <td>43.078740</td>\n",
       "    </tr>\n",
       "  </tbody>\n",
       "</table>\n",
       "</div>"
      ],
      "text/plain": [
       "                     Age\n",
       "Recovery Time           \n",
       "2              31.200000\n",
       "3              37.613333\n",
       "4              36.666667\n",
       "5              40.659091\n",
       "6              42.526316\n",
       "7              43.078740"
      ]
     },
     "execution_count": 8,
     "metadata": {},
     "output_type": "execute_result"
    }
   ],
   "source": [
    "data[data['COVID Test Result']==1][['Age', 'Recovery Time']].groupby('Recovery Time').mean()"
   ]
  },
  {
   "cell_type": "code",
   "execution_count": 9,
   "id": "37c1394f-968d-468d-835b-1555aaa6e739",
   "metadata": {},
   "outputs": [
    {
     "data": {
      "text/html": [
       "<div>\n",
       "<style scoped>\n",
       "    .dataframe tbody tr th:only-of-type {\n",
       "        vertical-align: middle;\n",
       "    }\n",
       "\n",
       "    .dataframe tbody tr th {\n",
       "        vertical-align: top;\n",
       "    }\n",
       "\n",
       "    .dataframe thead th {\n",
       "        text-align: right;\n",
       "    }\n",
       "</style>\n",
       "<table border=\"1\" class=\"dataframe\">\n",
       "  <thead>\n",
       "    <tr style=\"text-align: right;\">\n",
       "      <th></th>\n",
       "      <th>Age</th>\n",
       "      <th>Recovery Time</th>\n",
       "    </tr>\n",
       "    <tr>\n",
       "      <th>Pre-Existing Conditions</th>\n",
       "      <th></th>\n",
       "      <th></th>\n",
       "    </tr>\n",
       "  </thead>\n",
       "  <tbody>\n",
       "    <tr>\n",
       "      <th>asthma</th>\n",
       "      <td>43.963636</td>\n",
       "      <td>5.536364</td>\n",
       "    </tr>\n",
       "    <tr>\n",
       "      <th>diabetes</th>\n",
       "      <td>44.653226</td>\n",
       "      <td>5.564516</td>\n",
       "    </tr>\n",
       "    <tr>\n",
       "      <th>high blood pressure</th>\n",
       "      <td>44.927419</td>\n",
       "      <td>5.701613</td>\n",
       "    </tr>\n",
       "    <tr>\n",
       "      <th>none</th>\n",
       "      <td>31.184834</td>\n",
       "      <td>3.791469</td>\n",
       "    </tr>\n",
       "  </tbody>\n",
       "</table>\n",
       "</div>"
      ],
      "text/plain": [
       "                               Age  Recovery Time\n",
       "Pre-Existing Conditions                          \n",
       "asthma                   43.963636       5.536364\n",
       "diabetes                 44.653226       5.564516\n",
       "high blood pressure      44.927419       5.701613\n",
       "none                     31.184834       3.791469"
      ]
     },
     "execution_count": 9,
     "metadata": {},
     "output_type": "execute_result"
    }
   ],
   "source": [
    "data[data['COVID Test Result']==1][['Age', 'Recovery Time', 'Pre-Existing Conditions']].groupby('Pre-Existing Conditions').mean()"
   ]
  },
  {
   "cell_type": "code",
   "execution_count": 10,
   "id": "04883d0a-fc15-4839-9dbf-0e3cde4eecf3",
   "metadata": {},
   "outputs": [],
   "source": [
    "def has_condition(a):\n",
    "    if a in ['asthma', 'high blood pressure', 'diabetes']:\n",
    "        return 1\n",
    "    return 0\n",
    "\n",
    "data['Has Condition'] = data['Pre-Existing Conditions'].copy(deep=True).apply(has_condition)"
   ]
  },
  {
   "cell_type": "code",
   "execution_count": 11,
   "id": "f11a10ae-639b-4def-9836-669b8cd5f3ea",
   "metadata": {},
   "outputs": [
    {
     "data": {
      "text/html": [
       "<div>\n",
       "<style scoped>\n",
       "    .dataframe tbody tr th:only-of-type {\n",
       "        vertical-align: middle;\n",
       "    }\n",
       "\n",
       "    .dataframe tbody tr th {\n",
       "        vertical-align: top;\n",
       "    }\n",
       "\n",
       "    .dataframe thead th {\n",
       "        text-align: right;\n",
       "    }\n",
       "</style>\n",
       "<table border=\"1\" class=\"dataframe\">\n",
       "  <thead>\n",
       "    <tr style=\"text-align: right;\">\n",
       "      <th></th>\n",
       "      <th>Id</th>\n",
       "      <th>SSN</th>\n",
       "      <th>Age</th>\n",
       "      <th>Salary</th>\n",
       "      <th>COVID Test Result</th>\n",
       "      <th>Pre-Existing Conditions</th>\n",
       "      <th>Recovery Time</th>\n",
       "      <th>Has Condition</th>\n",
       "    </tr>\n",
       "  </thead>\n",
       "  <tbody>\n",
       "    <tr>\n",
       "      <th>0</th>\n",
       "      <td>409</td>\n",
       "      <td>105-22-7328</td>\n",
       "      <td>50</td>\n",
       "      <td>82000</td>\n",
       "      <td>1</td>\n",
       "      <td>high blood pressure</td>\n",
       "      <td>4</td>\n",
       "      <td>1</td>\n",
       "    </tr>\n",
       "    <tr>\n",
       "      <th>1</th>\n",
       "      <td>908</td>\n",
       "      <td>737-28-5583</td>\n",
       "      <td>55</td>\n",
       "      <td>73000</td>\n",
       "      <td>0</td>\n",
       "      <td>asthma</td>\n",
       "      <td>0</td>\n",
       "      <td>1</td>\n",
       "    </tr>\n",
       "    <tr>\n",
       "      <th>2</th>\n",
       "      <td>533</td>\n",
       "      <td>186-56-6345</td>\n",
       "      <td>46</td>\n",
       "      <td>94000</td>\n",
       "      <td>1</td>\n",
       "      <td>asthma</td>\n",
       "      <td>6</td>\n",
       "      <td>1</td>\n",
       "    </tr>\n",
       "    <tr>\n",
       "      <th>3</th>\n",
       "      <td>354</td>\n",
       "      <td>563-88-3187</td>\n",
       "      <td>42</td>\n",
       "      <td>54000</td>\n",
       "      <td>1</td>\n",
       "      <td>none</td>\n",
       "      <td>2</td>\n",
       "      <td>0</td>\n",
       "    </tr>\n",
       "    <tr>\n",
       "      <th>4</th>\n",
       "      <td>937</td>\n",
       "      <td>717-85-3843</td>\n",
       "      <td>26</td>\n",
       "      <td>82000</td>\n",
       "      <td>0</td>\n",
       "      <td>none</td>\n",
       "      <td>0</td>\n",
       "      <td>0</td>\n",
       "    </tr>\n",
       "  </tbody>\n",
       "</table>\n",
       "</div>"
      ],
      "text/plain": [
       "    Id          SSN  Age  Salary  COVID Test Result Pre-Existing Conditions  \\\n",
       "0  409  105-22-7328   50   82000                  1     high blood pressure   \n",
       "1  908  737-28-5583   55   73000                  0                  asthma   \n",
       "2  533  186-56-6345   46   94000                  1                  asthma   \n",
       "3  354  563-88-3187   42   54000                  1                    none   \n",
       "4  937  717-85-3843   26   82000                  0                    none   \n",
       "\n",
       "   Recovery Time  Has Condition  \n",
       "0              4              1  \n",
       "1              0              1  \n",
       "2              6              1  \n",
       "3              2              0  \n",
       "4              0              0  "
      ]
     },
     "execution_count": 11,
     "metadata": {},
     "output_type": "execute_result"
    }
   ],
   "source": [
    "data.head()"
   ]
  },
  {
   "cell_type": "code",
   "execution_count": 12,
   "id": "eeadc4c2-adbb-45d8-a4df-f5a34d96cb5c",
   "metadata": {},
   "outputs": [
    {
     "data": {
      "text/html": [
       "<div>\n",
       "<style scoped>\n",
       "    .dataframe tbody tr th:only-of-type {\n",
       "        vertical-align: middle;\n",
       "    }\n",
       "\n",
       "    .dataframe tbody tr th {\n",
       "        vertical-align: top;\n",
       "    }\n",
       "\n",
       "    .dataframe thead th {\n",
       "        text-align: right;\n",
       "    }\n",
       "</style>\n",
       "<table border=\"1\" class=\"dataframe\">\n",
       "  <thead>\n",
       "    <tr style=\"text-align: right;\">\n",
       "      <th></th>\n",
       "      <th>Age</th>\n",
       "      <th>Recovery Time</th>\n",
       "    </tr>\n",
       "    <tr>\n",
       "      <th>Has Condition</th>\n",
       "      <th></th>\n",
       "      <th></th>\n",
       "    </tr>\n",
       "  </thead>\n",
       "  <tbody>\n",
       "    <tr>\n",
       "      <th>0</th>\n",
       "      <td>31.184834</td>\n",
       "      <td>3.791469</td>\n",
       "    </tr>\n",
       "    <tr>\n",
       "      <th>1</th>\n",
       "      <td>44.536313</td>\n",
       "      <td>5.603352</td>\n",
       "    </tr>\n",
       "  </tbody>\n",
       "</table>\n",
       "</div>"
      ],
      "text/plain": [
       "                     Age  Recovery Time\n",
       "Has Condition                          \n",
       "0              31.184834       3.791469\n",
       "1              44.536313       5.603352"
      ]
     },
     "execution_count": 12,
     "metadata": {},
     "output_type": "execute_result"
    }
   ],
   "source": [
    "data[data['COVID Test Result']==1][['Age','Recovery Time', 'Has Condition']].groupby('Has Condition').mean()"
   ]
  }
 ],
 "metadata": {
  "kernelspec": {
   "display_name": "Python 3",
   "language": "python",
   "name": "python3"
  },
  "language_info": {
   "codemirror_mode": {
    "name": "ipython",
    "version": 3
   },
   "file_extension": ".py",
   "mimetype": "text/x-python",
   "name": "python",
   "nbconvert_exporter": "python",
   "pygments_lexer": "ipython3",
   "version": "3.9.7"
  }
 },
 "nbformat": 4,
 "nbformat_minor": 5
}
